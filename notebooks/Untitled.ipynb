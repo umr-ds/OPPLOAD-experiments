{
 "cells": [
  {
   "cell_type": "code",
   "execution_count": 16,
   "metadata": {},
   "outputs": [],
   "source": [
    "def rate_server(server, filter_dict):\n",
    "    quality = 0\n",
    "    for requirement_name, requirement in filter_dict.items():\n",
    "        capability = server.get(requirement_name, None)\n",
    "\n",
    "        # If the server has no restrictions regarding this particular\n",
    "        # requirement, it gets the best quality.\n",
    "        tmp_quality = None\n",
    "        if capability is None:\n",
    "            tmp_quality = 0\n",
    "        else:\n",
    "            tmp_quality = capability / float(requirement)\n",
    "\n",
    "        if requirement == 'energy':\n",
    "            tmp_quality = tmp_quality * 3\n",
    "        if requirement == 'cpu_load':\n",
    "            tmp_quality = tmp_quality * 2\n",
    "        if requirement == 'memory':\n",
    "            tmp_quality = tmp_quality * 1\n",
    "        if requirement == 'disk_space':\n",
    "            tmp_quality = tmp_quality * 1\n",
    "\n",
    "        quality = quality + tmp_quality\n",
    "\n",
    "    return quality + ((280 / server['gps_coord']) * 3)"
   ]
  },
  {
   "cell_type": "code",
   "execution_count": 21,
   "metadata": {},
   "outputs": [],
   "source": [
    "server = {\n",
    "    'energy': 5,\n",
    "    'disk_space': 1024**2 * 10,\n",
    "    'cpu_load': 4 - 0.30,\n",
    "    'memory': 1024**2 * 1,\n",
    "    'gps_coord': 160,\n",
    "}\n",
    "\n",
    "job = {\n",
    "    'energy': 2\n",
    "}"
   ]
  },
  {
   "cell_type": "code",
   "execution_count": 22,
   "metadata": {},
   "outputs": [
    {
     "data": {
      "text/plain": [
       "7.75"
      ]
     },
     "execution_count": 22,
     "metadata": {},
     "output_type": "execute_result"
    }
   ],
   "source": [
    "rate_server(server, job)"
   ]
  },
  {
   "cell_type": "code",
   "execution_count": null,
   "metadata": {},
   "outputs": [],
   "source": []
  }
 ],
 "metadata": {
  "kernelspec": {
   "display_name": "Python 3",
   "language": "python",
   "name": "python3"
  },
  "language_info": {
   "codemirror_mode": {
    "name": "ipython",
    "version": 3
   },
   "file_extension": ".py",
   "mimetype": "text/x-python",
   "name": "python",
   "nbconvert_exporter": "python",
   "pygments_lexer": "ipython3",
   "version": "3.6.3"
  }
 },
 "nbformat": 4,
 "nbformat_minor": 2
}
